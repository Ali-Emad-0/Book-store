{
 "cells": [
  {
   "metadata": {},
   "cell_type": "markdown",
   "source": "# This notebook prepares book data, builds a TF-IDF-based content recommender system, and saves it for use in the Django app.\n",
   "id": "6cf1aabba15e6968"
  },
  {
   "metadata": {
    "ExecuteTime": {
     "end_time": "2025-08-01T18:04:12.924249Z",
     "start_time": "2025-08-01T18:04:12.885697Z"
    }
   },
   "cell_type": "code",
   "source": [
    "import pandas as pd\n",
    "import numpy as np\n"
   ],
   "id": "892d8bb1b946d704",
   "outputs": [],
   "execution_count": 129
  },
  {
   "metadata": {
    "ExecuteTime": {
     "end_time": "2025-08-01T18:04:13.633872Z",
     "start_time": "2025-08-01T18:04:13.000892Z"
    }
   },
   "cell_type": "code",
   "source": [
    "from data_loader import load_cleaned_ratings, load_cleaned_users\n",
    "books = pd.read_csv(\"books_enriched.csv\")\n",
    "ratings = load_cleaned_ratings()\n",
    "users = load_cleaned_users()\n"
   ],
   "id": "d2ba1468a5b4142a",
   "outputs": [],
   "execution_count": 130
  },
  {
   "metadata": {},
   "cell_type": "markdown",
   "source": "## 1. Mark Popular Books (Top 5%)\n",
   "id": "fa8460b3e2b96b1a"
  },
  {
   "metadata": {
    "ExecuteTime": {
     "end_time": "2025-08-01T18:04:13.809437Z",
     "start_time": "2025-08-01T18:04:13.737328Z"
    }
   },
   "cell_type": "code",
   "source": [
    "books[\"Popularity\"] = False\n",
    "top_n = int(0.05 * len(books))\n",
    "popular_isbns = ratings[\"ISBN\"].value_counts().index[:top_n]\n",
    "books.loc[books[\"ISBN\"].isin(popular_isbns), \"Popularity\"] = True\n"
   ],
   "id": "c8df1ea24b635092",
   "outputs": [],
   "execution_count": 131
  },
  {
   "metadata": {},
   "cell_type": "markdown",
   "source": "## 2. Clean Columns (drop unused)\n",
   "id": "7d02a9afb05e90cb"
  },
  {
   "metadata": {
    "ExecuteTime": {
     "end_time": "2025-08-01T18:09:19.873330Z",
     "start_time": "2025-08-01T18:09:17.861915Z"
    }
   },
   "cell_type": "code",
   "source": [
    "books.drop(columns=[\"description\", \"genre\"], errors='ignore', inplace=True)\n",
    "\n",
    "books = books.iloc[:,[0,1,9,10,2,3,4,8,5,6,7]]"
   ],
   "id": "ec92283bddd506ef",
   "outputs": [
    {
     "ename": "IndexError",
     "evalue": "positional indexers are out-of-bounds",
     "output_type": "error",
     "traceback": [
      "\u001B[1;31m---------------------------------------------------------------------------\u001B[0m",
      "\u001B[1;31mIndexError\u001B[0m                                Traceback (most recent call last)",
      "Cell \u001B[1;32mIn[133], line 3\u001B[0m\n\u001B[0;32m      1\u001B[0m books\u001B[38;5;241m.\u001B[39mdrop(columns\u001B[38;5;241m=\u001B[39m[\u001B[38;5;124m\"\u001B[39m\u001B[38;5;124mdescription\u001B[39m\u001B[38;5;124m\"\u001B[39m, \u001B[38;5;124m\"\u001B[39m\u001B[38;5;124mgenre\u001B[39m\u001B[38;5;124m\"\u001B[39m], errors\u001B[38;5;241m=\u001B[39m\u001B[38;5;124m'\u001B[39m\u001B[38;5;124mignore\u001B[39m\u001B[38;5;124m'\u001B[39m, inplace\u001B[38;5;241m=\u001B[39m\u001B[38;5;28;01mTrue\u001B[39;00m)\n\u001B[1;32m----> 3\u001B[0m books \u001B[38;5;241m=\u001B[39m books\u001B[38;5;241m.\u001B[39miloc[:,[\u001B[38;5;241m0\u001B[39m,\u001B[38;5;241m1\u001B[39m,\u001B[38;5;241m9\u001B[39m,\u001B[38;5;241m10\u001B[39m,\u001B[38;5;241m2\u001B[39m,\u001B[38;5;241m3\u001B[39m,\u001B[38;5;241m4\u001B[39m,\u001B[38;5;241m8\u001B[39m,\u001B[38;5;241m5\u001B[39m,\u001B[38;5;241m6\u001B[39m,\u001B[38;5;241m7\u001B[39m]]\n",
      "File \u001B[1;32mC:\\ProgramData\\anaconda3\\Lib\\site-packages\\pandas\\core\\indexing.py:1067\u001B[0m, in \u001B[0;36m_LocationIndexer.__getitem__\u001B[1;34m(self, key)\u001B[0m\n\u001B[0;32m   1065\u001B[0m     \u001B[38;5;28;01mif\u001B[39;00m \u001B[38;5;28mself\u001B[39m\u001B[38;5;241m.\u001B[39m_is_scalar_access(key):\n\u001B[0;32m   1066\u001B[0m         \u001B[38;5;28;01mreturn\u001B[39;00m \u001B[38;5;28mself\u001B[39m\u001B[38;5;241m.\u001B[39mobj\u001B[38;5;241m.\u001B[39m_get_value(\u001B[38;5;241m*\u001B[39mkey, takeable\u001B[38;5;241m=\u001B[39m\u001B[38;5;28mself\u001B[39m\u001B[38;5;241m.\u001B[39m_takeable)\n\u001B[1;32m-> 1067\u001B[0m     \u001B[38;5;28;01mreturn\u001B[39;00m \u001B[38;5;28mself\u001B[39m\u001B[38;5;241m.\u001B[39m_getitem_tuple(key)\n\u001B[0;32m   1068\u001B[0m \u001B[38;5;28;01melse\u001B[39;00m:\n\u001B[0;32m   1069\u001B[0m     \u001B[38;5;66;03m# we by definition only have the 0th axis\u001B[39;00m\n\u001B[0;32m   1070\u001B[0m     axis \u001B[38;5;241m=\u001B[39m \u001B[38;5;28mself\u001B[39m\u001B[38;5;241m.\u001B[39maxis \u001B[38;5;129;01mor\u001B[39;00m \u001B[38;5;241m0\u001B[39m\n",
      "File \u001B[1;32mC:\\ProgramData\\anaconda3\\Lib\\site-packages\\pandas\\core\\indexing.py:1563\u001B[0m, in \u001B[0;36m_iLocIndexer._getitem_tuple\u001B[1;34m(self, tup)\u001B[0m\n\u001B[0;32m   1561\u001B[0m \u001B[38;5;28;01mdef\u001B[39;00m \u001B[38;5;21m_getitem_tuple\u001B[39m(\u001B[38;5;28mself\u001B[39m, tup: \u001B[38;5;28mtuple\u001B[39m):\n\u001B[1;32m-> 1563\u001B[0m     tup \u001B[38;5;241m=\u001B[39m \u001B[38;5;28mself\u001B[39m\u001B[38;5;241m.\u001B[39m_validate_tuple_indexer(tup)\n\u001B[0;32m   1564\u001B[0m     \u001B[38;5;28;01mwith\u001B[39;00m suppress(IndexingError):\n\u001B[0;32m   1565\u001B[0m         \u001B[38;5;28;01mreturn\u001B[39;00m \u001B[38;5;28mself\u001B[39m\u001B[38;5;241m.\u001B[39m_getitem_lowerdim(tup)\n",
      "File \u001B[1;32mC:\\ProgramData\\anaconda3\\Lib\\site-packages\\pandas\\core\\indexing.py:873\u001B[0m, in \u001B[0;36m_LocationIndexer._validate_tuple_indexer\u001B[1;34m(self, key)\u001B[0m\n\u001B[0;32m    871\u001B[0m \u001B[38;5;28;01mfor\u001B[39;00m i, k \u001B[38;5;129;01min\u001B[39;00m \u001B[38;5;28menumerate\u001B[39m(key):\n\u001B[0;32m    872\u001B[0m     \u001B[38;5;28;01mtry\u001B[39;00m:\n\u001B[1;32m--> 873\u001B[0m         \u001B[38;5;28mself\u001B[39m\u001B[38;5;241m.\u001B[39m_validate_key(k, i)\n\u001B[0;32m    874\u001B[0m     \u001B[38;5;28;01mexcept\u001B[39;00m \u001B[38;5;167;01mValueError\u001B[39;00m \u001B[38;5;28;01mas\u001B[39;00m err:\n\u001B[0;32m    875\u001B[0m         \u001B[38;5;28;01mraise\u001B[39;00m \u001B[38;5;167;01mValueError\u001B[39;00m(\n\u001B[0;32m    876\u001B[0m             \u001B[38;5;124m\"\u001B[39m\u001B[38;5;124mLocation based indexing can only have \u001B[39m\u001B[38;5;124m\"\u001B[39m\n\u001B[0;32m    877\u001B[0m             \u001B[38;5;124mf\u001B[39m\u001B[38;5;124m\"\u001B[39m\u001B[38;5;124m[\u001B[39m\u001B[38;5;132;01m{\u001B[39;00m\u001B[38;5;28mself\u001B[39m\u001B[38;5;241m.\u001B[39m_valid_types\u001B[38;5;132;01m}\u001B[39;00m\u001B[38;5;124m] types\u001B[39m\u001B[38;5;124m\"\u001B[39m\n\u001B[0;32m    878\u001B[0m         ) \u001B[38;5;28;01mfrom\u001B[39;00m \u001B[38;5;21;01merr\u001B[39;00m\n",
      "File \u001B[1;32mC:\\ProgramData\\anaconda3\\Lib\\site-packages\\pandas\\core\\indexing.py:1481\u001B[0m, in \u001B[0;36m_iLocIndexer._validate_key\u001B[1;34m(self, key, axis)\u001B[0m\n\u001B[0;32m   1479\u001B[0m     \u001B[38;5;66;03m# check that the key does not exceed the maximum size of the index\u001B[39;00m\n\u001B[0;32m   1480\u001B[0m     \u001B[38;5;28;01mif\u001B[39;00m \u001B[38;5;28mlen\u001B[39m(arr) \u001B[38;5;129;01mand\u001B[39;00m (arr\u001B[38;5;241m.\u001B[39mmax() \u001B[38;5;241m>\u001B[39m\u001B[38;5;241m=\u001B[39m len_axis \u001B[38;5;129;01mor\u001B[39;00m arr\u001B[38;5;241m.\u001B[39mmin() \u001B[38;5;241m<\u001B[39m \u001B[38;5;241m-\u001B[39mlen_axis):\n\u001B[1;32m-> 1481\u001B[0m         \u001B[38;5;28;01mraise\u001B[39;00m \u001B[38;5;167;01mIndexError\u001B[39;00m(\u001B[38;5;124m\"\u001B[39m\u001B[38;5;124mpositional indexers are out-of-bounds\u001B[39m\u001B[38;5;124m\"\u001B[39m)\n\u001B[0;32m   1482\u001B[0m \u001B[38;5;28;01melse\u001B[39;00m:\n\u001B[0;32m   1483\u001B[0m     \u001B[38;5;28;01mraise\u001B[39;00m \u001B[38;5;167;01mValueError\u001B[39;00m(\u001B[38;5;124mf\u001B[39m\u001B[38;5;124m\"\u001B[39m\u001B[38;5;124mCan only index by location with a [\u001B[39m\u001B[38;5;132;01m{\u001B[39;00m\u001B[38;5;28mself\u001B[39m\u001B[38;5;241m.\u001B[39m_valid_types\u001B[38;5;132;01m}\u001B[39;00m\u001B[38;5;124m]\u001B[39m\u001B[38;5;124m\"\u001B[39m)\n",
      "\u001B[1;31mIndexError\u001B[0m: positional indexers are out-of-bounds"
     ]
    }
   ],
   "execution_count": 133
  },
  {
   "metadata": {},
   "cell_type": "markdown",
   "source": "## 3. Save Cleaned Dataset\n",
   "id": "782749a8f124e668"
  },
  {
   "metadata": {},
   "cell_type": "code",
   "outputs": [],
   "execution_count": null,
   "source": "books.to_csv(\"../data/processed/books_cleaned.csv\", index=False)\n",
   "id": "2f3c257eee86713a"
  },
  {
   "metadata": {},
   "cell_type": "markdown",
   "source": "## 4. Build TF-IDF Recommender\n",
   "id": "e77eaaa39e1f2de0"
  },
  {
   "metadata": {},
   "cell_type": "code",
   "outputs": [],
   "execution_count": null,
   "source": [
    "from sklearn.feature_extraction.text import TfidfVectorizer\n",
    "from sklearn.metrics.pairwise import cosine_similarity\n",
    "\n",
    "books[\"Description\"] = books[\"Description\"].fillna(\"\")\n",
    "books[\"combined\"] = books[\"Book-Title\"] + ' ' + books[\"Book-Author\"] + ' ' + books[\"Description\"]\n",
    "\n",
    "tfidf = TfidfVectorizer(stop_words=\"english\")\n",
    "tfidf_matrix = tfidf.fit_transform(books[\"combined\"])\n",
    "\n",
    "cos_sim = cosine_similarity(tfidf_matrix)\n",
    "\n",
    "isbn_to_index = pd.Series(books.index, index=books[\"ISBN\"]).drop_duplicates()\n"
   ],
   "id": "4c1f2effdbc747e4"
  },
  {
   "metadata": {},
   "cell_type": "markdown",
   "source": "## 5. Save Model for Production\n",
   "id": "29e57220e155730d"
  },
  {
   "metadata": {},
   "cell_type": "code",
   "outputs": [],
   "execution_count": null,
   "source": [
    "import pickle\n",
    "\n",
    "with open('../recommender/tfidf_similarity.pkl', 'wb') as f:\n",
    "    pickle.dump({\n",
    "        \"cos_sim\": cos_sim,\n",
    "        \"isbn_to_index\": isbn_to_index,\n",
    "        \"books\": books[[\"ISBN\", \"Book-Title\", \"Book-Author\"]],\n",
    "    }, f)\n"
   ],
   "id": "43e44f48e85b475f"
  },
  {
   "metadata": {},
   "cell_type": "markdown",
   "source": "## 6. Test: Recommend Similar Books",
   "id": "df2204aeda997078"
  },
  {
   "metadata": {},
   "cell_type": "code",
   "outputs": [],
   "execution_count": null,
   "source": [
    "def recommend_similar_books(isbn, N=10):\n",
    "    if isbn not in isbn_to_index:\n",
    "        return []\n",
    "    idx = isbn_to_index[isbn]\n",
    "    scores = list(enumerate(cos_sim[idx]))\n",
    "    scores = sorted(scores, key=lambda x: x[1], reverse=True)[1:N+1]\n",
    "    return books.iloc[[score[0] for score in scores]][[\"ISBN\", \"Book-Title\"]]\n"
   ],
   "id": "7e047e10e65940ad"
  },
  {
   "metadata": {},
   "cell_type": "code",
   "outputs": [],
   "execution_count": null,
   "source": "recommend_similar_books(\"0452283868\", 5)\n",
   "id": "cf20adea2b8d7af4"
  },
  {
   "metadata": {},
   "cell_type": "markdown",
   "source": "# ✅ Ready! Now the model is saved and can be loaded in your `content_based_filtering.py`.\n",
   "id": "4daa6004d8701e51"
  }
 ],
 "metadata": {
  "kernelspec": {
   "display_name": "Python 3",
   "language": "python",
   "name": "python3"
  },
  "language_info": {
   "codemirror_mode": {
    "name": "ipython",
    "version": 2
   },
   "file_extension": ".py",
   "mimetype": "text/x-python",
   "name": "python",
   "nbconvert_exporter": "python",
   "pygments_lexer": "ipython2",
   "version": "2.7.6"
  }
 },
 "nbformat": 4,
 "nbformat_minor": 5
}
